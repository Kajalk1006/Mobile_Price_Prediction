{
 "cells": [
  {
   "cell_type": "code",
   "execution_count": 1,
   "id": "b12dd793",
   "metadata": {},
   "outputs": [
    {
     "name": "stdout",
     "output_type": "stream",
     "text": [
      "Python 3.10.9\n"
     ]
    }
   ],
   "source": [
    "!python --version"
   ]
  },
  {
   "cell_type": "markdown",
   "id": "9ee5e41f",
   "metadata": {},
   "source": [
    "### Problem statement"
   ]
  },
  {
   "cell_type": "raw",
   "id": "d2e68aef",
   "metadata": {},
   "source": [
    "Mobile price depends on various factors such as resolution, brand, size, weight, imaging quality, RAM, battery and cpu power. In this dataset, we want to estimate the price of mobile phones using the above features."
   ]
  },
  {
   "cell_type": "code",
   "execution_count": 2,
   "id": "d3b61d39",
   "metadata": {},
   "outputs": [],
   "source": [
    "import warnings\n",
    "warnings.filterwarnings('ignore')"
   ]
  },
  {
   "cell_type": "code",
   "execution_count": 3,
   "id": "bb7cd161",
   "metadata": {},
   "outputs": [],
   "source": [
    "import numpy as np\n",
    "import pandas as pd\n",
    "import seaborn as sns\n",
    "import matplotlib.pyplot as plt\n",
    "\n",
    "from sklearn.model_selection import train_test_split\n",
    "from sklearn.neighbors import KNeighborsRegressor\n",
    "from sklearn.linear_model import LinearRegression\n",
    "from sklearn.preprocessing import MinMaxScaler\n",
    "\n",
    "import pickle\n",
    "import json"
   ]
  },
  {
   "cell_type": "markdown",
   "id": "f0625d0f",
   "metadata": {},
   "source": [
    "### Data Gathering"
   ]
  },
  {
   "cell_type": "code",
   "execution_count": 4,
   "id": "417fc1cd",
   "metadata": {},
   "outputs": [
    {
     "data": {
      "text/html": [
       "<div>\n",
       "<style scoped>\n",
       "    .dataframe tbody tr th:only-of-type {\n",
       "        vertical-align: middle;\n",
       "    }\n",
       "\n",
       "    .dataframe tbody tr th {\n",
       "        vertical-align: top;\n",
       "    }\n",
       "\n",
       "    .dataframe thead th {\n",
       "        text-align: right;\n",
       "    }\n",
       "</style>\n",
       "<table border=\"1\" class=\"dataframe\">\n",
       "  <thead>\n",
       "    <tr style=\"text-align: right;\">\n",
       "      <th></th>\n",
       "      <th>Product_id</th>\n",
       "      <th>Price</th>\n",
       "      <th>Sale</th>\n",
       "      <th>weight</th>\n",
       "      <th>resoloution</th>\n",
       "      <th>ppi</th>\n",
       "      <th>cpu_core</th>\n",
       "      <th>cpu_freq</th>\n",
       "      <th>internal_mem</th>\n",
       "      <th>ram</th>\n",
       "      <th>RearCam</th>\n",
       "      <th>Front_Cam</th>\n",
       "      <th>battery</th>\n",
       "      <th>thickness</th>\n",
       "    </tr>\n",
       "  </thead>\n",
       "  <tbody>\n",
       "    <tr>\n",
       "      <th>0</th>\n",
       "      <td>203</td>\n",
       "      <td>2357</td>\n",
       "      <td>10</td>\n",
       "      <td>135.0</td>\n",
       "      <td>5.20</td>\n",
       "      <td>424</td>\n",
       "      <td>8</td>\n",
       "      <td>1.350</td>\n",
       "      <td>16.0</td>\n",
       "      <td>3.000</td>\n",
       "      <td>13.00</td>\n",
       "      <td>8.0</td>\n",
       "      <td>2610</td>\n",
       "      <td>7.4</td>\n",
       "    </tr>\n",
       "    <tr>\n",
       "      <th>1</th>\n",
       "      <td>880</td>\n",
       "      <td>1749</td>\n",
       "      <td>10</td>\n",
       "      <td>125.0</td>\n",
       "      <td>4.00</td>\n",
       "      <td>233</td>\n",
       "      <td>2</td>\n",
       "      <td>1.300</td>\n",
       "      <td>4.0</td>\n",
       "      <td>1.000</td>\n",
       "      <td>3.15</td>\n",
       "      <td>0.0</td>\n",
       "      <td>1700</td>\n",
       "      <td>9.9</td>\n",
       "    </tr>\n",
       "    <tr>\n",
       "      <th>2</th>\n",
       "      <td>40</td>\n",
       "      <td>1916</td>\n",
       "      <td>10</td>\n",
       "      <td>110.0</td>\n",
       "      <td>4.70</td>\n",
       "      <td>312</td>\n",
       "      <td>4</td>\n",
       "      <td>1.200</td>\n",
       "      <td>8.0</td>\n",
       "      <td>1.500</td>\n",
       "      <td>13.00</td>\n",
       "      <td>5.0</td>\n",
       "      <td>2000</td>\n",
       "      <td>7.6</td>\n",
       "    </tr>\n",
       "    <tr>\n",
       "      <th>3</th>\n",
       "      <td>99</td>\n",
       "      <td>1315</td>\n",
       "      <td>11</td>\n",
       "      <td>118.5</td>\n",
       "      <td>4.00</td>\n",
       "      <td>233</td>\n",
       "      <td>2</td>\n",
       "      <td>1.300</td>\n",
       "      <td>4.0</td>\n",
       "      <td>0.512</td>\n",
       "      <td>3.15</td>\n",
       "      <td>0.0</td>\n",
       "      <td>1400</td>\n",
       "      <td>11.0</td>\n",
       "    </tr>\n",
       "    <tr>\n",
       "      <th>4</th>\n",
       "      <td>880</td>\n",
       "      <td>1749</td>\n",
       "      <td>11</td>\n",
       "      <td>125.0</td>\n",
       "      <td>4.00</td>\n",
       "      <td>233</td>\n",
       "      <td>2</td>\n",
       "      <td>1.300</td>\n",
       "      <td>4.0</td>\n",
       "      <td>1.000</td>\n",
       "      <td>3.15</td>\n",
       "      <td>0.0</td>\n",
       "      <td>1700</td>\n",
       "      <td>9.9</td>\n",
       "    </tr>\n",
       "    <tr>\n",
       "      <th>...</th>\n",
       "      <td>...</td>\n",
       "      <td>...</td>\n",
       "      <td>...</td>\n",
       "      <td>...</td>\n",
       "      <td>...</td>\n",
       "      <td>...</td>\n",
       "      <td>...</td>\n",
       "      <td>...</td>\n",
       "      <td>...</td>\n",
       "      <td>...</td>\n",
       "      <td>...</td>\n",
       "      <td>...</td>\n",
       "      <td>...</td>\n",
       "      <td>...</td>\n",
       "    </tr>\n",
       "    <tr>\n",
       "      <th>156</th>\n",
       "      <td>1206</td>\n",
       "      <td>3551</td>\n",
       "      <td>4638</td>\n",
       "      <td>178.0</td>\n",
       "      <td>5.46</td>\n",
       "      <td>538</td>\n",
       "      <td>4</td>\n",
       "      <td>1.875</td>\n",
       "      <td>128.0</td>\n",
       "      <td>6.000</td>\n",
       "      <td>12.00</td>\n",
       "      <td>16.0</td>\n",
       "      <td>4080</td>\n",
       "      <td>8.4</td>\n",
       "    </tr>\n",
       "    <tr>\n",
       "      <th>157</th>\n",
       "      <td>1296</td>\n",
       "      <td>3211</td>\n",
       "      <td>8016</td>\n",
       "      <td>170.0</td>\n",
       "      <td>5.50</td>\n",
       "      <td>534</td>\n",
       "      <td>4</td>\n",
       "      <td>1.975</td>\n",
       "      <td>128.0</td>\n",
       "      <td>6.000</td>\n",
       "      <td>20.00</td>\n",
       "      <td>8.0</td>\n",
       "      <td>3400</td>\n",
       "      <td>7.9</td>\n",
       "    </tr>\n",
       "    <tr>\n",
       "      <th>158</th>\n",
       "      <td>856</td>\n",
       "      <td>3260</td>\n",
       "      <td>8809</td>\n",
       "      <td>150.0</td>\n",
       "      <td>5.50</td>\n",
       "      <td>401</td>\n",
       "      <td>8</td>\n",
       "      <td>2.200</td>\n",
       "      <td>64.0</td>\n",
       "      <td>4.000</td>\n",
       "      <td>20.00</td>\n",
       "      <td>20.0</td>\n",
       "      <td>3000</td>\n",
       "      <td>6.8</td>\n",
       "    </tr>\n",
       "    <tr>\n",
       "      <th>159</th>\n",
       "      <td>1296</td>\n",
       "      <td>3211</td>\n",
       "      <td>8946</td>\n",
       "      <td>170.0</td>\n",
       "      <td>5.50</td>\n",
       "      <td>534</td>\n",
       "      <td>4</td>\n",
       "      <td>1.975</td>\n",
       "      <td>128.0</td>\n",
       "      <td>6.000</td>\n",
       "      <td>20.00</td>\n",
       "      <td>8.0</td>\n",
       "      <td>3400</td>\n",
       "      <td>7.9</td>\n",
       "    </tr>\n",
       "    <tr>\n",
       "      <th>160</th>\n",
       "      <td>1131</td>\n",
       "      <td>2536</td>\n",
       "      <td>9807</td>\n",
       "      <td>202.0</td>\n",
       "      <td>6.00</td>\n",
       "      <td>367</td>\n",
       "      <td>8</td>\n",
       "      <td>1.500</td>\n",
       "      <td>16.0</td>\n",
       "      <td>3.000</td>\n",
       "      <td>21.50</td>\n",
       "      <td>16.0</td>\n",
       "      <td>2700</td>\n",
       "      <td>8.4</td>\n",
       "    </tr>\n",
       "  </tbody>\n",
       "</table>\n",
       "<p>161 rows × 14 columns</p>\n",
       "</div>"
      ],
      "text/plain": [
       "     Product_id  Price  Sale  weight  resoloution  ppi  cpu_core  cpu_freq  \\\n",
       "0           203   2357    10   135.0         5.20  424         8     1.350   \n",
       "1           880   1749    10   125.0         4.00  233         2     1.300   \n",
       "2            40   1916    10   110.0         4.70  312         4     1.200   \n",
       "3            99   1315    11   118.5         4.00  233         2     1.300   \n",
       "4           880   1749    11   125.0         4.00  233         2     1.300   \n",
       "..          ...    ...   ...     ...          ...  ...       ...       ...   \n",
       "156        1206   3551  4638   178.0         5.46  538         4     1.875   \n",
       "157        1296   3211  8016   170.0         5.50  534         4     1.975   \n",
       "158         856   3260  8809   150.0         5.50  401         8     2.200   \n",
       "159        1296   3211  8946   170.0         5.50  534         4     1.975   \n",
       "160        1131   2536  9807   202.0         6.00  367         8     1.500   \n",
       "\n",
       "     internal_mem    ram  RearCam  Front_Cam  battery  thickness  \n",
       "0            16.0  3.000    13.00        8.0     2610        7.4  \n",
       "1             4.0  1.000     3.15        0.0     1700        9.9  \n",
       "2             8.0  1.500    13.00        5.0     2000        7.6  \n",
       "3             4.0  0.512     3.15        0.0     1400       11.0  \n",
       "4             4.0  1.000     3.15        0.0     1700        9.9  \n",
       "..            ...    ...      ...        ...      ...        ...  \n",
       "156         128.0  6.000    12.00       16.0     4080        8.4  \n",
       "157         128.0  6.000    20.00        8.0     3400        7.9  \n",
       "158          64.0  4.000    20.00       20.0     3000        6.8  \n",
       "159         128.0  6.000    20.00        8.0     3400        7.9  \n",
       "160          16.0  3.000    21.50       16.0     2700        8.4  \n",
       "\n",
       "[161 rows x 14 columns]"
      ]
     },
     "execution_count": 4,
     "metadata": {},
     "output_type": "execute_result"
    }
   ],
   "source": [
    "df = pd.read_csv('Cellphone.csv')\n",
    "df"
   ]
  },
  {
   "cell_type": "markdown",
   "id": "2db02f18",
   "metadata": {},
   "source": [
    "### EDA"
   ]
  },
  {
   "cell_type": "code",
   "execution_count": 5,
   "id": "f7afa256",
   "metadata": {},
   "outputs": [
    {
     "name": "stdout",
     "output_type": "stream",
     "text": [
      "<class 'pandas.core.frame.DataFrame'>\n",
      "RangeIndex: 161 entries, 0 to 160\n",
      "Data columns (total 14 columns):\n",
      " #   Column        Non-Null Count  Dtype  \n",
      "---  ------        --------------  -----  \n",
      " 0   Product_id    161 non-null    int64  \n",
      " 1   Price         161 non-null    int64  \n",
      " 2   Sale          161 non-null    int64  \n",
      " 3   weight        161 non-null    float64\n",
      " 4   resoloution   161 non-null    float64\n",
      " 5   ppi           161 non-null    int64  \n",
      " 6   cpu_core      161 non-null    int64  \n",
      " 7   cpu_freq      161 non-null    float64\n",
      " 8   internal_mem  161 non-null    float64\n",
      " 9   ram           161 non-null    float64\n",
      " 10  RearCam       161 non-null    float64\n",
      " 11  Front_Cam     161 non-null    float64\n",
      " 12  battery       161 non-null    int64  \n",
      " 13  thickness     161 non-null    float64\n",
      "dtypes: float64(8), int64(6)\n",
      "memory usage: 17.7 KB\n"
     ]
    }
   ],
   "source": [
    "df.info()"
   ]
  },
  {
   "cell_type": "code",
   "execution_count": 6,
   "id": "0e86a12f",
   "metadata": {},
   "outputs": [
    {
     "data": {
      "text/plain": [
       "Product_id        int64\n",
       "Price             int64\n",
       "Sale              int64\n",
       "weight          float64\n",
       "resoloution     float64\n",
       "ppi               int64\n",
       "cpu_core          int64\n",
       "cpu_freq        float64\n",
       "internal_mem    float64\n",
       "ram             float64\n",
       "RearCam         float64\n",
       "Front_Cam       float64\n",
       "battery           int64\n",
       "thickness       float64\n",
       "dtype: object"
      ]
     },
     "execution_count": 6,
     "metadata": {},
     "output_type": "execute_result"
    }
   ],
   "source": [
    "df.dtypes"
   ]
  },
  {
   "cell_type": "code",
   "execution_count": 7,
   "id": "c8879352",
   "metadata": {},
   "outputs": [
    {
     "data": {
      "text/plain": [
       "Product_id      0\n",
       "Price           0\n",
       "Sale            0\n",
       "weight          0\n",
       "resoloution     0\n",
       "ppi             0\n",
       "cpu_core        0\n",
       "cpu_freq        0\n",
       "internal_mem    0\n",
       "ram             0\n",
       "RearCam         0\n",
       "Front_Cam       0\n",
       "battery         0\n",
       "thickness       0\n",
       "dtype: int64"
      ]
     },
     "execution_count": 7,
     "metadata": {},
     "output_type": "execute_result"
    }
   ],
   "source": [
    "df.isna().sum()"
   ]
  },
  {
   "cell_type": "markdown",
   "id": "be0803e2",
   "metadata": {},
   "source": [
    "### Feature Engineering"
   ]
  },
  {
   "cell_type": "code",
   "execution_count": 8,
   "id": "2f6d45b6",
   "metadata": {},
   "outputs": [],
   "source": [
    "x = df.drop(['Price','Product_id','Sale'],axis=1)\n",
    "y = df['Price']"
   ]
  },
  {
   "cell_type": "code",
   "execution_count": 9,
   "id": "5820fbcd",
   "metadata": {},
   "outputs": [
    {
     "data": {
      "text/html": [
       "<div>\n",
       "<style scoped>\n",
       "    .dataframe tbody tr th:only-of-type {\n",
       "        vertical-align: middle;\n",
       "    }\n",
       "\n",
       "    .dataframe tbody tr th {\n",
       "        vertical-align: top;\n",
       "    }\n",
       "\n",
       "    .dataframe thead th {\n",
       "        text-align: right;\n",
       "    }\n",
       "</style>\n",
       "<table border=\"1\" class=\"dataframe\">\n",
       "  <thead>\n",
       "    <tr style=\"text-align: right;\">\n",
       "      <th></th>\n",
       "      <th>weight</th>\n",
       "      <th>resoloution</th>\n",
       "      <th>ppi</th>\n",
       "      <th>cpu_core</th>\n",
       "      <th>cpu_freq</th>\n",
       "      <th>internal_mem</th>\n",
       "      <th>ram</th>\n",
       "      <th>RearCam</th>\n",
       "      <th>Front_Cam</th>\n",
       "      <th>battery</th>\n",
       "      <th>thickness</th>\n",
       "    </tr>\n",
       "  </thead>\n",
       "  <tbody>\n",
       "    <tr>\n",
       "      <th>0</th>\n",
       "      <td>0.100437</td>\n",
       "      <td>0.351852</td>\n",
       "      <td>0.442336</td>\n",
       "      <td>1.00</td>\n",
       "      <td>0.500000</td>\n",
       "      <td>0.12500</td>\n",
       "      <td>0.500000</td>\n",
       "      <td>0.565217</td>\n",
       "      <td>0.40</td>\n",
       "      <td>0.208046</td>\n",
       "      <td>0.171642</td>\n",
       "    </tr>\n",
       "    <tr>\n",
       "      <th>1</th>\n",
       "      <td>0.085881</td>\n",
       "      <td>0.240741</td>\n",
       "      <td>0.163504</td>\n",
       "      <td>0.25</td>\n",
       "      <td>0.481481</td>\n",
       "      <td>0.03125</td>\n",
       "      <td>0.166667</td>\n",
       "      <td>0.136957</td>\n",
       "      <td>0.00</td>\n",
       "      <td>0.103448</td>\n",
       "      <td>0.358209</td>\n",
       "    </tr>\n",
       "    <tr>\n",
       "      <th>2</th>\n",
       "      <td>0.064047</td>\n",
       "      <td>0.305556</td>\n",
       "      <td>0.278832</td>\n",
       "      <td>0.50</td>\n",
       "      <td>0.444444</td>\n",
       "      <td>0.06250</td>\n",
       "      <td>0.250000</td>\n",
       "      <td>0.565217</td>\n",
       "      <td>0.25</td>\n",
       "      <td>0.137931</td>\n",
       "      <td>0.186567</td>\n",
       "    </tr>\n",
       "    <tr>\n",
       "      <th>3</th>\n",
       "      <td>0.076419</td>\n",
       "      <td>0.240741</td>\n",
       "      <td>0.163504</td>\n",
       "      <td>0.25</td>\n",
       "      <td>0.481481</td>\n",
       "      <td>0.03125</td>\n",
       "      <td>0.085333</td>\n",
       "      <td>0.136957</td>\n",
       "      <td>0.00</td>\n",
       "      <td>0.068966</td>\n",
       "      <td>0.440299</td>\n",
       "    </tr>\n",
       "    <tr>\n",
       "      <th>4</th>\n",
       "      <td>0.085881</td>\n",
       "      <td>0.240741</td>\n",
       "      <td>0.163504</td>\n",
       "      <td>0.25</td>\n",
       "      <td>0.481481</td>\n",
       "      <td>0.03125</td>\n",
       "      <td>0.166667</td>\n",
       "      <td>0.136957</td>\n",
       "      <td>0.00</td>\n",
       "      <td>0.103448</td>\n",
       "      <td>0.358209</td>\n",
       "    </tr>\n",
       "    <tr>\n",
       "      <th>...</th>\n",
       "      <td>...</td>\n",
       "      <td>...</td>\n",
       "      <td>...</td>\n",
       "      <td>...</td>\n",
       "      <td>...</td>\n",
       "      <td>...</td>\n",
       "      <td>...</td>\n",
       "      <td>...</td>\n",
       "      <td>...</td>\n",
       "      <td>...</td>\n",
       "      <td>...</td>\n",
       "    </tr>\n",
       "    <tr>\n",
       "      <th>156</th>\n",
       "      <td>0.163028</td>\n",
       "      <td>0.375926</td>\n",
       "      <td>0.608759</td>\n",
       "      <td>0.50</td>\n",
       "      <td>0.694444</td>\n",
       "      <td>1.00000</td>\n",
       "      <td>1.000000</td>\n",
       "      <td>0.521739</td>\n",
       "      <td>0.80</td>\n",
       "      <td>0.377011</td>\n",
       "      <td>0.246269</td>\n",
       "    </tr>\n",
       "    <tr>\n",
       "      <th>157</th>\n",
       "      <td>0.151383</td>\n",
       "      <td>0.379630</td>\n",
       "      <td>0.602920</td>\n",
       "      <td>0.50</td>\n",
       "      <td>0.731481</td>\n",
       "      <td>1.00000</td>\n",
       "      <td>1.000000</td>\n",
       "      <td>0.869565</td>\n",
       "      <td>0.40</td>\n",
       "      <td>0.298851</td>\n",
       "      <td>0.208955</td>\n",
       "    </tr>\n",
       "    <tr>\n",
       "      <th>158</th>\n",
       "      <td>0.122271</td>\n",
       "      <td>0.379630</td>\n",
       "      <td>0.408759</td>\n",
       "      <td>1.00</td>\n",
       "      <td>0.814815</td>\n",
       "      <td>0.50000</td>\n",
       "      <td>0.666667</td>\n",
       "      <td>0.869565</td>\n",
       "      <td>1.00</td>\n",
       "      <td>0.252874</td>\n",
       "      <td>0.126866</td>\n",
       "    </tr>\n",
       "    <tr>\n",
       "      <th>159</th>\n",
       "      <td>0.151383</td>\n",
       "      <td>0.379630</td>\n",
       "      <td>0.602920</td>\n",
       "      <td>0.50</td>\n",
       "      <td>0.731481</td>\n",
       "      <td>1.00000</td>\n",
       "      <td>1.000000</td>\n",
       "      <td>0.869565</td>\n",
       "      <td>0.40</td>\n",
       "      <td>0.298851</td>\n",
       "      <td>0.208955</td>\n",
       "    </tr>\n",
       "    <tr>\n",
       "      <th>160</th>\n",
       "      <td>0.197962</td>\n",
       "      <td>0.425926</td>\n",
       "      <td>0.359124</td>\n",
       "      <td>1.00</td>\n",
       "      <td>0.555556</td>\n",
       "      <td>0.12500</td>\n",
       "      <td>0.500000</td>\n",
       "      <td>0.934783</td>\n",
       "      <td>0.80</td>\n",
       "      <td>0.218391</td>\n",
       "      <td>0.246269</td>\n",
       "    </tr>\n",
       "  </tbody>\n",
       "</table>\n",
       "<p>161 rows × 11 columns</p>\n",
       "</div>"
      ],
      "text/plain": [
       "       weight  resoloution       ppi  cpu_core  cpu_freq  internal_mem  \\\n",
       "0    0.100437     0.351852  0.442336      1.00  0.500000       0.12500   \n",
       "1    0.085881     0.240741  0.163504      0.25  0.481481       0.03125   \n",
       "2    0.064047     0.305556  0.278832      0.50  0.444444       0.06250   \n",
       "3    0.076419     0.240741  0.163504      0.25  0.481481       0.03125   \n",
       "4    0.085881     0.240741  0.163504      0.25  0.481481       0.03125   \n",
       "..        ...          ...       ...       ...       ...           ...   \n",
       "156  0.163028     0.375926  0.608759      0.50  0.694444       1.00000   \n",
       "157  0.151383     0.379630  0.602920      0.50  0.731481       1.00000   \n",
       "158  0.122271     0.379630  0.408759      1.00  0.814815       0.50000   \n",
       "159  0.151383     0.379630  0.602920      0.50  0.731481       1.00000   \n",
       "160  0.197962     0.425926  0.359124      1.00  0.555556       0.12500   \n",
       "\n",
       "          ram   RearCam  Front_Cam   battery  thickness  \n",
       "0    0.500000  0.565217       0.40  0.208046   0.171642  \n",
       "1    0.166667  0.136957       0.00  0.103448   0.358209  \n",
       "2    0.250000  0.565217       0.25  0.137931   0.186567  \n",
       "3    0.085333  0.136957       0.00  0.068966   0.440299  \n",
       "4    0.166667  0.136957       0.00  0.103448   0.358209  \n",
       "..        ...       ...        ...       ...        ...  \n",
       "156  1.000000  0.521739       0.80  0.377011   0.246269  \n",
       "157  1.000000  0.869565       0.40  0.298851   0.208955  \n",
       "158  0.666667  0.869565       1.00  0.252874   0.126866  \n",
       "159  1.000000  0.869565       0.40  0.298851   0.208955  \n",
       "160  0.500000  0.934783       0.80  0.218391   0.246269  \n",
       "\n",
       "[161 rows x 11 columns]"
      ]
     },
     "execution_count": 9,
     "metadata": {},
     "output_type": "execute_result"
    }
   ],
   "source": [
    "scaler = MinMaxScaler()\n",
    "arr = scaler.fit_transform(x)\n",
    "x_scale = pd.DataFrame(arr, columns = x.columns)\n",
    "x_scale"
   ]
  },
  {
   "cell_type": "markdown",
   "id": "f09f8b4e",
   "metadata": {},
   "source": [
    "### Model Training"
   ]
  },
  {
   "cell_type": "code",
   "execution_count": 10,
   "id": "c0e80253",
   "metadata": {},
   "outputs": [],
   "source": [
    "x_scale_train,x_scale_test,y_train,y_test = train_test_split(x_scale,y,test_size=0.2,random_state=10)"
   ]
  },
  {
   "cell_type": "code",
   "execution_count": 11,
   "id": "d0dc6c46",
   "metadata": {},
   "outputs": [
    {
     "data": {
      "text/html": [
       "<style>#sk-container-id-1 {color: black;background-color: white;}#sk-container-id-1 pre{padding: 0;}#sk-container-id-1 div.sk-toggleable {background-color: white;}#sk-container-id-1 label.sk-toggleable__label {cursor: pointer;display: block;width: 100%;margin-bottom: 0;padding: 0.3em;box-sizing: border-box;text-align: center;}#sk-container-id-1 label.sk-toggleable__label-arrow:before {content: \"▸\";float: left;margin-right: 0.25em;color: #696969;}#sk-container-id-1 label.sk-toggleable__label-arrow:hover:before {color: black;}#sk-container-id-1 div.sk-estimator:hover label.sk-toggleable__label-arrow:before {color: black;}#sk-container-id-1 div.sk-toggleable__content {max-height: 0;max-width: 0;overflow: hidden;text-align: left;background-color: #f0f8ff;}#sk-container-id-1 div.sk-toggleable__content pre {margin: 0.2em;color: black;border-radius: 0.25em;background-color: #f0f8ff;}#sk-container-id-1 input.sk-toggleable__control:checked~div.sk-toggleable__content {max-height: 200px;max-width: 100%;overflow: auto;}#sk-container-id-1 input.sk-toggleable__control:checked~label.sk-toggleable__label-arrow:before {content: \"▾\";}#sk-container-id-1 div.sk-estimator input.sk-toggleable__control:checked~label.sk-toggleable__label {background-color: #d4ebff;}#sk-container-id-1 div.sk-label input.sk-toggleable__control:checked~label.sk-toggleable__label {background-color: #d4ebff;}#sk-container-id-1 input.sk-hidden--visually {border: 0;clip: rect(1px 1px 1px 1px);clip: rect(1px, 1px, 1px, 1px);height: 1px;margin: -1px;overflow: hidden;padding: 0;position: absolute;width: 1px;}#sk-container-id-1 div.sk-estimator {font-family: monospace;background-color: #f0f8ff;border: 1px dotted black;border-radius: 0.25em;box-sizing: border-box;margin-bottom: 0.5em;}#sk-container-id-1 div.sk-estimator:hover {background-color: #d4ebff;}#sk-container-id-1 div.sk-parallel-item::after {content: \"\";width: 100%;border-bottom: 1px solid gray;flex-grow: 1;}#sk-container-id-1 div.sk-label:hover label.sk-toggleable__label {background-color: #d4ebff;}#sk-container-id-1 div.sk-serial::before {content: \"\";position: absolute;border-left: 1px solid gray;box-sizing: border-box;top: 0;bottom: 0;left: 50%;z-index: 0;}#sk-container-id-1 div.sk-serial {display: flex;flex-direction: column;align-items: center;background-color: white;padding-right: 0.2em;padding-left: 0.2em;position: relative;}#sk-container-id-1 div.sk-item {position: relative;z-index: 1;}#sk-container-id-1 div.sk-parallel {display: flex;align-items: stretch;justify-content: center;background-color: white;position: relative;}#sk-container-id-1 div.sk-item::before, #sk-container-id-1 div.sk-parallel-item::before {content: \"\";position: absolute;border-left: 1px solid gray;box-sizing: border-box;top: 0;bottom: 0;left: 50%;z-index: -1;}#sk-container-id-1 div.sk-parallel-item {display: flex;flex-direction: column;z-index: 1;position: relative;background-color: white;}#sk-container-id-1 div.sk-parallel-item:first-child::after {align-self: flex-end;width: 50%;}#sk-container-id-1 div.sk-parallel-item:last-child::after {align-self: flex-start;width: 50%;}#sk-container-id-1 div.sk-parallel-item:only-child::after {width: 0;}#sk-container-id-1 div.sk-dashed-wrapped {border: 1px dashed gray;margin: 0 0.4em 0.5em 0.4em;box-sizing: border-box;padding-bottom: 0.4em;background-color: white;}#sk-container-id-1 div.sk-label label {font-family: monospace;font-weight: bold;display: inline-block;line-height: 1.2em;}#sk-container-id-1 div.sk-label-container {text-align: center;}#sk-container-id-1 div.sk-container {/* jupyter's `normalize.less` sets `[hidden] { display: none; }` but bootstrap.min.css set `[hidden] { display: none !important; }` so we also need the `!important` here to be able to override the default hidden behavior on the sphinx rendered scikit-learn.org. See: https://github.com/scikit-learn/scikit-learn/issues/21755 */display: inline-block !important;position: relative;}#sk-container-id-1 div.sk-text-repr-fallback {display: none;}</style><div id=\"sk-container-id-1\" class=\"sk-top-container\"><div class=\"sk-text-repr-fallback\"><pre>LinearRegression()</pre><b>In a Jupyter environment, please rerun this cell to show the HTML representation or trust the notebook. <br />On GitHub, the HTML representation is unable to render, please try loading this page with nbviewer.org.</b></div><div class=\"sk-container\" hidden><div class=\"sk-item\"><div class=\"sk-estimator sk-toggleable\"><input class=\"sk-toggleable__control sk-hidden--visually\" id=\"sk-estimator-id-1\" type=\"checkbox\" checked><label for=\"sk-estimator-id-1\" class=\"sk-toggleable__label sk-toggleable__label-arrow\">LinearRegression</label><div class=\"sk-toggleable__content\"><pre>LinearRegression()</pre></div></div></div></div></div>"
      ],
      "text/plain": [
       "LinearRegression()"
      ]
     },
     "execution_count": 11,
     "metadata": {},
     "output_type": "execute_result"
    }
   ],
   "source": [
    "lin_reg = LinearRegression()\n",
    "lin_reg.fit(x_scale_train,y_train)"
   ]
  },
  {
   "cell_type": "markdown",
   "id": "935a2a9f",
   "metadata": {},
   "source": [
    "### Model Evaluation"
   ]
  },
  {
   "cell_type": "code",
   "execution_count": 12,
   "id": "483ea54a",
   "metadata": {},
   "outputs": [
    {
     "name": "stdout",
     "output_type": "stream",
     "text": [
      "train_score : 0.9601409108985639\n",
      "test_score : 0.9081632081978334\n"
     ]
    }
   ],
   "source": [
    "train_score = lin_reg.score(x_scale_train,y_train)\n",
    "print(f'train_score : {train_score}')\n",
    "\n",
    "test_score = lin_reg.score(x_scale_test,y_test)\n",
    "print(f'test_score : {test_score}')"
   ]
  },
  {
   "cell_type": "markdown",
   "id": "0adc936a",
   "metadata": {},
   "source": [
    "### Save the files"
   ]
  },
  {
   "cell_type": "code",
   "execution_count": 13,
   "id": "b810b1d3",
   "metadata": {},
   "outputs": [],
   "source": [
    "with open('model.pkl','wb') as file:\n",
    "    pickle.dump(lin_reg,file)"
   ]
  },
  {
   "cell_type": "code",
   "execution_count": 14,
   "id": "b75b3e75",
   "metadata": {},
   "outputs": [],
   "source": [
    "with open('scale.pkl','wb') as file:\n",
    "    pickle.dump(scaler,file)"
   ]
  },
  {
   "cell_type": "code",
   "execution_count": 15,
   "id": "6a2e1b0c",
   "metadata": {},
   "outputs": [
    {
     "data": {
      "text/plain": [
       "['weight',\n",
       " 'resoloution',\n",
       " 'ppi',\n",
       " 'cpu_core',\n",
       " 'cpu_freq',\n",
       " 'internal_mem',\n",
       " 'ram',\n",
       " 'RearCam',\n",
       " 'Front_Cam',\n",
       " 'battery',\n",
       " 'thickness']"
      ]
     },
     "execution_count": 15,
     "metadata": {},
     "output_type": "execute_result"
    }
   ],
   "source": [
    "x.columns.tolist()"
   ]
  },
  {
   "cell_type": "code",
   "execution_count": 16,
   "id": "5f8d4b54",
   "metadata": {},
   "outputs": [
    {
     "data": {
      "text/plain": [
       "{'column_names': ['weight',\n",
       "  'resoloution',\n",
       "  'ppi',\n",
       "  'cpu_core',\n",
       "  'cpu_freq',\n",
       "  'internal_mem',\n",
       "  'ram',\n",
       "  'RearCam',\n",
       "  'Front_Cam',\n",
       "  'battery',\n",
       "  'thickness']}"
      ]
     },
     "execution_count": 16,
     "metadata": {},
     "output_type": "execute_result"
    }
   ],
   "source": [
    "project_data = {\"column_names\":x.columns.tolist()}\n",
    "project_data         "
   ]
  },
  {
   "cell_type": "code",
   "execution_count": 17,
   "id": "17622db7",
   "metadata": {},
   "outputs": [],
   "source": [
    "with open('project_data.json','w') as file:\n",
    "    json.dump(project_data,file)"
   ]
  },
  {
   "cell_type": "markdown",
   "id": "b52bd047",
   "metadata": {},
   "source": [
    "### User Defined Function"
   ]
  },
  {
   "cell_type": "code",
   "execution_count": 18,
   "id": "e3e2f058",
   "metadata": {},
   "outputs": [
    {
     "name": "stdout",
     "output_type": "stream",
     "text": [
      "[[0.10043668 0.35185185 0.44233577 1.         0.5        0.125\n",
      "  0.5        0.56521739 0.4        0.20804598 0.17164179]]\n"
     ]
    },
    {
     "data": {
      "text/plain": [
       "array([2666.85818505])"
      ]
     },
     "execution_count": 18,
     "metadata": {},
     "output_type": "execute_result"
    }
   ],
   "source": [
    "weight = 135\n",
    "resoloution = 5.20\n",
    "ppi = 424\n",
    "cpu_core = 8\n",
    "cpu_freq = 1.35\n",
    "internal_mem = 16\n",
    "ram = 3\n",
    "RearCam = 13\n",
    "Front_Cam = 8\n",
    "battery = 2610\n",
    "thickness = 7.4\n",
    "\n",
    "user_data = np.zeros(len(x.columns))\n",
    "user_data[0] = weight\n",
    "user_data[1] = resoloution\n",
    "user_data[2] = ppi\n",
    "user_data[3] = cpu_core\n",
    "user_data[4] = cpu_freq\n",
    "user_data[5] = internal_mem\n",
    "user_data[6] = ram\n",
    "user_data[7] = RearCam\n",
    "user_data[8] = Front_Cam\n",
    "user_data[9] = battery\n",
    "user_data[10] = thickness\n",
    "\n",
    "### Scaling the user data \n",
    "user_data_scale = scaler.transform([user_data])\n",
    "print(user_data_scale)\n",
    "\n",
    "result = lin_reg.predict(user_data_scale)\n",
    "result"
   ]
  },
  {
   "cell_type": "code",
   "execution_count": null,
   "id": "890f9dde",
   "metadata": {},
   "outputs": [],
   "source": []
  },
  {
   "cell_type": "code",
   "execution_count": null,
   "id": "5e226288",
   "metadata": {},
   "outputs": [],
   "source": []
  }
 ],
 "metadata": {
  "kernelspec": {
   "display_name": "Python 3",
   "language": "python",
   "name": "python3"
  },
  "language_info": {
   "codemirror_mode": {
    "name": "ipython",
    "version": 3
   },
   "file_extension": ".py",
   "mimetype": "text/x-python",
   "name": "python",
   "nbconvert_exporter": "python",
   "pygments_lexer": "ipython3",
   "version": "3.8.8"
  }
 },
 "nbformat": 4,
 "nbformat_minor": 5
}
